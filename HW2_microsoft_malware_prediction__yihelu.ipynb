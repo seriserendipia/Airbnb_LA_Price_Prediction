{
  "nbformat": 4,
  "nbformat_minor": 0,
  "metadata": {
    "colab": {
      "provenance": [],
      "authorship_tag": "ABX9TyPKjN7rwmWPSg+ThGDZ00SC",
      "include_colab_link": true
    },
    "kernelspec": {
      "name": "python3",
      "display_name": "Python 3"
    },
    "language_info": {
      "name": "python"
    }
  },
  "cells": [
    {
      "cell_type": "markdown",
      "metadata": {
        "id": "view-in-github",
        "colab_type": "text"
      },
      "source": [
        "<a href=\"https://colab.research.google.com/github/seriserendipia/Airbnb_LA_Price_Prediction/blob/main/HW2_microsoft_malware_prediction__yihelu.ipynb\" target=\"_parent\"><img src=\"https://colab.research.google.com/assets/colab-badge.svg\" alt=\"Open In Colab\"/></a>"
      ]
    },
    {
      "cell_type": "markdown",
      "source": [
        "# Serializes the dataset\n",
        "to deduce memory use and accerelate data reading"
      ],
      "metadata": {
        "id": "g67DK_myMDHQ"
      }
    },
    {
      "cell_type": "code",
      "source": [
        "import pandas as pd\n",
        "import numpy as np"
      ],
      "metadata": {
        "id": "0eVkMI5jYO3S"
      },
      "execution_count": null,
      "outputs": []
    },
    {
      "cell_type": "code",
      "source": [
        "# %%time\n",
        "\n",
        "# data_dir = '/scratch1/yihelu/microsoft-malware-prediction/'\n",
        "\n",
        "# #Function to reduce file mem size\n",
        "# #Based on https://www.kaggle.com/gemartin/load-data-reduce-memory-usage and https://github.com/jd12121/Microsoft-Malware-Prediction/blob/master/prepare_data.py\n",
        "# def reduce_mem_usage(df, verbose=True):\n",
        "#     numerics = ['int16', 'int32', 'int64', 'float16', 'float32', 'float64']\n",
        "#     start_mem = df.memory_usage(deep=True).sum() / 1024**2\n",
        "#     for col in df.columns:\n",
        "#         col_type = df[col].dtypes\n",
        "#         if col_type in numerics:\n",
        "#             c_min = df[col].min()\n",
        "#             c_max = df[col].max()\n",
        "#             if str(col_type)[:3] == 'int':\n",
        "#                 if c_min > np.iinfo(np.int8).min and c_max < np.iinfo(np.int8).max:\n",
        "#                     df[col] = df[col].astype(np.int8)\n",
        "#                 elif c_min > np.iinfo(np.int16).min and c_max < np.iinfo(np.int16).max:\n",
        "#                     df[col] = df[col].astype(np.int16)\n",
        "#                 elif c_min > np.iinfo(np.int32).min and c_max < np.iinfo(np.int32).max:\n",
        "#                     df[col] = df[col].astype(np.int32)\n",
        "#                 elif c_min > np.iinfo(np.int64).min and c_max < np.iinfo(np.int64).max:\n",
        "#                     df[col] = df[col].astype(np.int64)\n",
        "#             else:\n",
        "#                 if c_min > np.finfo(np.float16).min and c_max < np.finfo(np.float16).max:\n",
        "#                     df[col] = df[col].astype(np.float16)\n",
        "#                 elif c_min > np.finfo(np.float32).min and c_max < np.finfo(np.float32).max:\n",
        "#                     df[col] = df[col].astype(np.float32)\n",
        "#                 else:\n",
        "#                     df[col] = df[col].astype(np.float64)\n",
        "#     end_mem = df.memory_usage(deep=True).sum() / 1024**2\n",
        "#     if verbose: print('Mem. usage decreased to {:5.2f} Mb ({:.1f}% reduction)'.format(end_mem, 100 * (start_mem - end_mem) / start_mem))\n",
        "#     return df\n",
        "\n",
        "\n",
        "# train = reduce_mem_usage(pd.read_csv(data_dir + 'train.csv',low_memory=False), verbose=False)\n",
        "# test = reduce_mem_usage(pd.read_csv(data_dir +'test.csv',low_memory=False), verbose=False)"
      ],
      "metadata": {
        "colab": {
          "base_uri": "https://localhost:8080/"
        },
        "id": "zKeIOyHBIFyF",
        "outputId": "6267818a-136f-40ce-c9cc-b9cf94369508"
      },
      "execution_count": 8,
      "outputs": [
        {
          "output_type": "stream",
          "name": "stdout",
          "text": [
            "CPU times: user 5min 59s, sys: 30.3 s, total: 6min 29s\n",
            "Wall time: 6min 41s\n"
          ]
        }
      ]
    },
    {
      "cell_type": "code",
      "source": [
        "train_clean = data_dir + 'train_clean.pkl'\n",
        "test_clean = data_dir + 'test_clean.pkl'\n",
        "full_clean = data_dir + 'full_clean.pkl'"
      ],
      "metadata": {
        "id": "VK7A8RdMMCIL"
      },
      "execution_count": 9,
      "outputs": []
    },
    {
      "cell_type": "code",
      "source": [
        "# %%time\n",
        "\n",
        "# full = pd.concat([train,test],ignore_index=True,sort=False)\n",
        "# full = reduce_mem_usage(full, verbose=False)\n",
        "\n",
        "# full.to_pickle(full_clean)\n",
        "# train.to_pickle(train_clean)\n",
        "# test.to_pickle(test_clean)\n",
        "\n",
        "# print('data saved')"
      ],
      "metadata": {
        "colab": {
          "base_uri": "https://localhost:8080/"
        },
        "id": "vTY4mHPNLufD",
        "outputId": "af49b8dc-55a8-43fb-daa3-c5967b88d7cc"
      },
      "execution_count": 10,
      "outputs": [
        {
          "output_type": "stream",
          "name": "stdout",
          "text": [
            "data saved\n",
            "CPU times: user 3min 40s, sys: 10.5 s, total: 3min 50s\n",
            "Wall time: 3min 53s\n"
          ]
        }
      ]
    },
    {
      "cell_type": "markdown",
      "source": [
        "# Read data"
      ],
      "metadata": {
        "id": "wPfrbNNlN_9T"
      }
    },
    {
      "cell_type": "code",
      "source": [
        "%%time\n",
        "train = pd.read_pickle(train_clean)\n",
        "test = pd.read_pickle(test_clean)\n",
        "full = pd.read_pickle(full_clean)"
      ],
      "metadata": {
        "colab": {
          "base_uri": "https://localhost:8080/"
        },
        "id": "KulhU1jXN-Do",
        "outputId": "c8567420-b81b-4680-c337-206784ba5449"
      },
      "execution_count": 11,
      "outputs": [
        {
          "output_type": "stream",
          "name": "stdout",
          "text": [
            "CPU times: user 28.1 s, sys: 13.2 s, total: 41.3 s\n",
            "Wall time: 59.9 s\n"
          ]
        }
      ]
    },
    {
      "cell_type": "markdown",
      "source": [
        "# TODO\n",
        "编码数值和类型\n",
        "https://www.kaggle.com/competitions/microsoft-malware-prediction/discussion/84065\n",
        "https://github.com/imor-de/microsoft_malware_prediction_kaggle_2nd\n",
        "\n",
        "按时间分层抽样（5-fold\n",
        "\n",
        " frequency encoding\n",
        " AvSigVersion、EngineVersion、AppVersion、BuildLab\n",
        "\n",
        "AVSigVersion 和 EngineVersion的对应和相差关系\n",
        "https://chatgpt.com/c/679bcef6-eb34-8006-b8a6-1715801fc061\n",
        "\n",
        "\n",
        "train is sampled from 2 consecutive months from 2018-07-25 to 2018-09-25, Public from: 2018-09-26 to 2018-10-25 and Private from: 2018-10-26 to 2018-11-25."
      ],
      "metadata": {
        "id": "opss0Z_v6_D0"
      }
    },
    {
      "cell_type": "code",
      "source": [
        "train.columns"
      ],
      "metadata": {
        "colab": {
          "base_uri": "https://localhost:8080/"
        },
        "id": "QkmLKmKu3Cio",
        "outputId": "25b2608f-d6bd-4eba-b35a-b77004eefa3d"
      },
      "execution_count": 14,
      "outputs": [
        {
          "output_type": "execute_result",
          "data": {
            "text/plain": [
              "Index(['MachineIdentifier', 'ProductName', 'EngineVersion', 'AppVersion',\n",
              "       'AvSigVersion', 'IsBeta', 'RtpStateBitfield', 'IsSxsPassiveMode',\n",
              "       'DefaultBrowsersIdentifier', 'AVProductStatesIdentifier',\n",
              "       'AVProductsInstalled', 'AVProductsEnabled', 'HasTpm',\n",
              "       'CountryIdentifier', 'CityIdentifier', 'OrganizationIdentifier',\n",
              "       'GeoNameIdentifier', 'LocaleEnglishNameIdentifier', 'Platform',\n",
              "       'Processor', 'OsVer', 'OsBuild', 'OsSuite', 'OsPlatformSubRelease',\n",
              "       'OsBuildLab', 'SkuEdition', 'IsProtected', 'AutoSampleOptIn', 'PuaMode',\n",
              "       'SMode', 'IeVerIdentifier', 'SmartScreen', 'Firewall', 'UacLuaenable',\n",
              "       'Census_MDC2FormFactor', 'Census_DeviceFamily',\n",
              "       'Census_OEMNameIdentifier', 'Census_OEMModelIdentifier',\n",
              "       'Census_ProcessorCoreCount', 'Census_ProcessorManufacturerIdentifier',\n",
              "       'Census_ProcessorModelIdentifier', 'Census_ProcessorClass',\n",
              "       'Census_PrimaryDiskTotalCapacity', 'Census_PrimaryDiskTypeName',\n",
              "       'Census_SystemVolumeTotalCapacity', 'Census_HasOpticalDiskDrive',\n",
              "       'Census_TotalPhysicalRAM', 'Census_ChassisTypeName',\n",
              "       'Census_InternalPrimaryDiagonalDisplaySizeInInches',\n",
              "       'Census_InternalPrimaryDisplayResolutionHorizontal',\n",
              "       'Census_InternalPrimaryDisplayResolutionVertical',\n",
              "       'Census_PowerPlatformRoleName', 'Census_InternalBatteryType',\n",
              "       'Census_InternalBatteryNumberOfCharges', 'Census_OSVersion',\n",
              "       'Census_OSArchitecture', 'Census_OSBranch', 'Census_OSBuildNumber',\n",
              "       'Census_OSBuildRevision', 'Census_OSEdition', 'Census_OSSkuName',\n",
              "       'Census_OSInstallTypeName', 'Census_OSInstallLanguageIdentifier',\n",
              "       'Census_OSUILocaleIdentifier', 'Census_OSWUAutoUpdateOptionsName',\n",
              "       'Census_IsPortableOperatingSystem', 'Census_GenuineStateName',\n",
              "       'Census_ActivationChannel', 'Census_IsFlightingInternal',\n",
              "       'Census_IsFlightsDisabled', 'Census_FlightRing',\n",
              "       'Census_ThresholdOptIn', 'Census_FirmwareManufacturerIdentifier',\n",
              "       'Census_FirmwareVersionIdentifier', 'Census_IsSecureBootEnabled',\n",
              "       'Census_IsWIMBootEnabled', 'Census_IsVirtualDevice',\n",
              "       'Census_IsTouchEnabled', 'Census_IsPenCapable',\n",
              "       'Census_IsAlwaysOnAlwaysConnectedCapable', 'Wdft_IsGamer',\n",
              "       'Wdft_RegionIdentifier', 'HasDetections'],\n",
              "      dtype='object')"
            ]
          },
          "metadata": {},
          "execution_count": 14
        }
      ]
    },
    {
      "cell_type": "code",
      "source": [
        "train.info()"
      ],
      "metadata": {
        "colab": {
          "base_uri": "https://localhost:8080/"
        },
        "id": "ctO_XZqI3KJz",
        "outputId": "cfa097d5-6360-4f08-f769-b74e9c0822ce"
      },
      "execution_count": 15,
      "outputs": [
        {
          "output_type": "stream",
          "name": "stdout",
          "text": [
            "<class 'pandas.core.frame.DataFrame'>\n",
            "RangeIndex: 8921483 entries, 0 to 8921482\n",
            "Data columns (total 83 columns):\n",
            " #   Column                                             Dtype  \n",
            "---  ------                                             -----  \n",
            " 0   MachineIdentifier                                  object \n",
            " 1   ProductName                                        object \n",
            " 2   EngineVersion                                      object \n",
            " 3   AppVersion                                         object \n",
            " 4   AvSigVersion                                       object \n",
            " 5   IsBeta                                             int8   \n",
            " 6   RtpStateBitfield                                   float16\n",
            " 7   IsSxsPassiveMode                                   int8   \n",
            " 8   DefaultBrowsersIdentifier                          float16\n",
            " 9   AVProductStatesIdentifier                          float32\n",
            " 10  AVProductsInstalled                                float16\n",
            " 11  AVProductsEnabled                                  float16\n",
            " 12  HasTpm                                             int8   \n",
            " 13  CountryIdentifier                                  int16  \n",
            " 14  CityIdentifier                                     float32\n",
            " 15  OrganizationIdentifier                             float16\n",
            " 16  GeoNameIdentifier                                  float16\n",
            " 17  LocaleEnglishNameIdentifier                        int16  \n",
            " 18  Platform                                           object \n",
            " 19  Processor                                          object \n",
            " 20  OsVer                                              object \n",
            " 21  OsBuild                                            int16  \n",
            " 22  OsSuite                                            int16  \n",
            " 23  OsPlatformSubRelease                               object \n",
            " 24  OsBuildLab                                         object \n",
            " 25  SkuEdition                                         object \n",
            " 26  IsProtected                                        float16\n",
            " 27  AutoSampleOptIn                                    int8   \n",
            " 28  PuaMode                                            object \n",
            " 29  SMode                                              float16\n",
            " 30  IeVerIdentifier                                    float16\n",
            " 31  SmartScreen                                        object \n",
            " 32  Firewall                                           float16\n",
            " 33  UacLuaenable                                       float32\n",
            " 34  Census_MDC2FormFactor                              object \n",
            " 35  Census_DeviceFamily                                object \n",
            " 36  Census_OEMNameIdentifier                           float16\n",
            " 37  Census_OEMModelIdentifier                          float32\n",
            " 38  Census_ProcessorCoreCount                          float16\n",
            " 39  Census_ProcessorManufacturerIdentifier             float16\n",
            " 40  Census_ProcessorModelIdentifier                    float16\n",
            " 41  Census_ProcessorClass                              object \n",
            " 42  Census_PrimaryDiskTotalCapacity                    float32\n",
            " 43  Census_PrimaryDiskTypeName                         object \n",
            " 44  Census_SystemVolumeTotalCapacity                   float32\n",
            " 45  Census_HasOpticalDiskDrive                         int8   \n",
            " 46  Census_TotalPhysicalRAM                            float32\n",
            " 47  Census_ChassisTypeName                             object \n",
            " 48  Census_InternalPrimaryDiagonalDisplaySizeInInches  float16\n",
            " 49  Census_InternalPrimaryDisplayResolutionHorizontal  float16\n",
            " 50  Census_InternalPrimaryDisplayResolutionVertical    float16\n",
            " 51  Census_PowerPlatformRoleName                       object \n",
            " 52  Census_InternalBatteryType                         object \n",
            " 53  Census_InternalBatteryNumberOfCharges              float32\n",
            " 54  Census_OSVersion                                   object \n",
            " 55  Census_OSArchitecture                              object \n",
            " 56  Census_OSBranch                                    object \n",
            " 57  Census_OSBuildNumber                               int16  \n",
            " 58  Census_OSBuildRevision                             int32  \n",
            " 59  Census_OSEdition                                   object \n",
            " 60  Census_OSSkuName                                   object \n",
            " 61  Census_OSInstallTypeName                           object \n",
            " 62  Census_OSInstallLanguageIdentifier                 float16\n",
            " 63  Census_OSUILocaleIdentifier                        int16  \n",
            " 64  Census_OSWUAutoUpdateOptionsName                   object \n",
            " 65  Census_IsPortableOperatingSystem                   int8   \n",
            " 66  Census_GenuineStateName                            object \n",
            " 67  Census_ActivationChannel                           object \n",
            " 68  Census_IsFlightingInternal                         float16\n",
            " 69  Census_IsFlightsDisabled                           float16\n",
            " 70  Census_FlightRing                                  object \n",
            " 71  Census_ThresholdOptIn                              float16\n",
            " 72  Census_FirmwareManufacturerIdentifier              float16\n",
            " 73  Census_FirmwareVersionIdentifier                   float32\n",
            " 74  Census_IsSecureBootEnabled                         int8   \n",
            " 75  Census_IsWIMBootEnabled                            float16\n",
            " 76  Census_IsVirtualDevice                             float16\n",
            " 77  Census_IsTouchEnabled                              int8   \n",
            " 78  Census_IsPenCapable                                int8   \n",
            " 79  Census_IsAlwaysOnAlwaysConnectedCapable            float16\n",
            " 80  Wdft_IsGamer                                       float16\n",
            " 81  Wdft_RegionIdentifier                              float16\n",
            " 82  HasDetections                                      int8   \n",
            "dtypes: float16(27), float32(9), int16(6), int32(1), int8(10), object(30)\n",
            "memory usage: 3.0+ GB\n"
          ]
        }
      ]
    },
    {
      "cell_type": "code",
      "source": [],
      "metadata": {
        "id": "NmOLgKe6k7GV"
      },
      "execution_count": null,
      "outputs": []
    },
    {
      "cell_type": "markdown",
      "source": [
        "# Preprocess"
      ],
      "metadata": {
        "id": "26JRPU7Ek7k-"
      }
    },
    {
      "cell_type": "code",
      "source": [
        "def count_by_column(df, column_name):\n",
        "  \"\"\"\n",
        "  Groups a DataFrame by a specified column, counts occurrences, and returns percentages.\n",
        "  Args:\n",
        "    df: The input Pandas DataFrame.\n",
        "    column_name: The name of the column to group by.\n",
        "  Returns:\n",
        "    A Pandas DataFrame with percentages of IDs for each group, sorted in descending order.\n",
        "    Returns None if the column does not exist in the DataFrame.\n",
        "  \"\"\"\n",
        "  if column_name not in df.columns:\n",
        "    print(f\"Error: Column '{column_name}' not found in DataFrame.\")\n",
        "    return None\n",
        "  df_counts = df.groupby(column_name)['MachineIdentifier'].count().reset_index()\n",
        "  df_counts.rename(columns={'MachineIdentifier': 'count'}, inplace=True)\n",
        "  df_counts['percentage'] = (df_counts['count'] / df_counts['count'].sum()) * 100\n",
        "  df_counts = df_counts.sort_values(by='count', ascending=False).reset_index(drop=True)\n",
        "  return df_counts\n",
        "\n",
        "count_by_column(train, 'HasDetections')\n"
      ],
      "metadata": {
        "id": "CHWlvjYT3KM0",
        "colab": {
          "base_uri": "https://localhost:8080/",
          "height": 112
        },
        "outputId": "e9c23cef-c880-48e0-f668-527d7ce72ab1"
      },
      "execution_count": 4,
      "outputs": [
        {
          "output_type": "execute_result",
          "data": {
            "text/plain": [
              "   HasDetections  count  percentage\n",
              "0              1   5050        50.5\n",
              "1              0   4950        49.5"
            ],
            "text/html": [
              "<div>\n",
              "<style scoped>\n",
              "    .dataframe tbody tr th:only-of-type {\n",
              "        vertical-align: middle;\n",
              "    }\n",
              "\n",
              "    .dataframe tbody tr th {\n",
              "        vertical-align: top;\n",
              "    }\n",
              "\n",
              "    .dataframe thead th {\n",
              "        text-align: right;\n",
              "    }\n",
              "</style>\n",
              "<table border=\"1\" class=\"dataframe\">\n",
              "  <thead>\n",
              "    <tr style=\"text-align: right;\">\n",
              "      <th></th>\n",
              "      <th>HasDetections</th>\n",
              "      <th>count</th>\n",
              "      <th>percentage</th>\n",
              "    </tr>\n",
              "  </thead>\n",
              "  <tbody>\n",
              "    <tr>\n",
              "      <th>0</th>\n",
              "      <td>1</td>\n",
              "      <td>5050</td>\n",
              "      <td>50.5</td>\n",
              "    </tr>\n",
              "    <tr>\n",
              "      <th>1</th>\n",
              "      <td>0</td>\n",
              "      <td>4950</td>\n",
              "      <td>49.5</td>\n",
              "    </tr>\n",
              "  </tbody>\n",
              "</table>\n",
              "</div>"
            ]
          },
          "metadata": {},
          "execution_count": 4
        }
      ]
    },
    {
      "cell_type": "code",
      "source": [
        "# prompt: for col in numerical_cols, histplot\n",
        "\n",
        "import seaborn as sns\n",
        "import matplotlib.pyplot as plt\n",
        "\n",
        "# Assuming numerical_cols and X_train_numerical are defined as in the previous code.\n",
        "\n",
        "for col in train.select_dtypes(include=['number']).columns:\n",
        "  plt.figure(figsize=(4, 3))  # Adjust figure size as needed\n",
        "  sns.histplot(train[col], kde=True)  # Use kde=True for kernel density estimation\n",
        "  plt.title(f'Distribution of {col}')\n",
        "  plt.xlabel(col)\n",
        "  plt.ylabel('Frequency')\n",
        "  plt.show()\n"
      ],
      "metadata": {
        "colab": {
          "base_uri": "https://localhost:8080/",
          "height": 1000
        },
        "id": "MSSjYaKMkOEA",
        "outputId": "2775441a-d19b-4f5a-f673-eec0e392dc00"
      },
      "execution_count": 15,
      "outputs": [
        {
          "output_type": "display_data",
          "data": {
            "text/plain": [
              "<Figure size 400x300 with 1 Axes>"
            ],
            "image/png": "[encoded data removed]"
          },
          "metadata": {}
        },
        {
          "output_type": "error",
          "ename": "KeyboardInterrupt",
          "evalue": "",
          "traceback": [
            "\u001b[0;31m---------------------------------------------------------------------------\u001b[0m",
            "\u001b[0;31mKeyboardInterrupt\u001b[0m                         Traceback (most recent call last)",
            "Cell \u001b[0;32mIn[15], line 10\u001b[0m\n\u001b[1;32m      8\u001b[0m \u001b[38;5;28;01mfor\u001b[39;00m col \u001b[38;5;129;01min\u001b[39;00m train\u001b[38;5;241m.\u001b[39mselect_dtypes(include\u001b[38;5;241m=\u001b[39m[\u001b[38;5;124m'\u001b[39m\u001b[38;5;124mnumber\u001b[39m\u001b[38;5;124m'\u001b[39m])\u001b[38;5;241m.\u001b[39mcolumns:\n\u001b[1;32m      9\u001b[0m   plt\u001b[38;5;241m.\u001b[39mfigure(figsize\u001b[38;5;241m=\u001b[39m(\u001b[38;5;241m4\u001b[39m, \u001b[38;5;241m3\u001b[39m))  \u001b[38;5;66;03m# Adjust figure size as needed\u001b[39;00m\n\u001b[0;32m---> 10\u001b[0m   \u001b[43msns\u001b[49m\u001b[38;5;241;43m.\u001b[39;49m\u001b[43mhistplot\u001b[49m\u001b[43m(\u001b[49m\u001b[43mtrain\u001b[49m\u001b[43m[\u001b[49m\u001b[43mcol\u001b[49m\u001b[43m]\u001b[49m\u001b[43m,\u001b[49m\u001b[43m \u001b[49m\u001b[43mkde\u001b[49m\u001b[38;5;241;43m=\u001b[39;49m\u001b[38;5;28;43;01mTrue\u001b[39;49;00m\u001b[43m)\u001b[49m  \u001b[38;5;66;03m# Use kde=True for kernel density estimation\u001b[39;00m\n\u001b[1;32m     11\u001b[0m   plt\u001b[38;5;241m.\u001b[39mtitle(\u001b[38;5;124mf\u001b[39m\u001b[38;5;124m'\u001b[39m\u001b[38;5;124mDistribution of \u001b[39m\u001b[38;5;132;01m{\u001b[39;00mcol\u001b[38;5;132;01m}\u001b[39;00m\u001b[38;5;124m'\u001b[39m)\n\u001b[1;32m     12\u001b[0m   plt\u001b[38;5;241m.\u001b[39mxlabel(col)\n",
            "File \u001b[0;32m~/.conda/envs/dirty-env/lib/python3.13/site-packages/seaborn/distributions.py:1416\u001b[0m, in \u001b[0;36mhistplot\u001b[0;34m(data, x, y, hue, weights, stat, bins, binwidth, binrange, discrete, cumulative, common_bins, common_norm, multiple, element, fill, shrink, kde, kde_kws, line_kws, thresh, pthresh, pmax, cbar, cbar_ax, cbar_kws, palette, hue_order, hue_norm, color, log_scale, legend, ax, **kwargs)\u001b[0m\n\u001b[1;32m   1405\u001b[0m estimate_kws \u001b[38;5;241m=\u001b[39m \u001b[38;5;28mdict\u001b[39m(\n\u001b[1;32m   1406\u001b[0m     stat\u001b[38;5;241m=\u001b[39mstat,\n\u001b[1;32m   1407\u001b[0m     bins\u001b[38;5;241m=\u001b[39mbins,\n\u001b[0;32m   (...)\u001b[0m\n\u001b[1;32m   1411\u001b[0m     cumulative\u001b[38;5;241m=\u001b[39mcumulative,\n\u001b[1;32m   1412\u001b[0m )\n\u001b[1;32m   1414\u001b[0m \u001b[38;5;28;01mif\u001b[39;00m p\u001b[38;5;241m.\u001b[39munivariate:\n\u001b[0;32m-> 1416\u001b[0m     \u001b[43mp\u001b[49m\u001b[38;5;241;43m.\u001b[39;49m\u001b[43mplot_univariate_histogram\u001b[49m\u001b[43m(\u001b[49m\n\u001b[1;32m   1417\u001b[0m \u001b[43m        \u001b[49m\u001b[43mmultiple\u001b[49m\u001b[38;5;241;43m=\u001b[39;49m\u001b[43mmultiple\u001b[49m\u001b[43m,\u001b[49m\n\u001b[1;32m   1418\u001b[0m \u001b[43m        \u001b[49m\u001b[43melement\u001b[49m\u001b[38;5;241;43m=\u001b[39;49m\u001b[43melement\u001b[49m\u001b[43m,\u001b[49m\n\u001b[1;32m   1419\u001b[0m \u001b[43m        \u001b[49m\u001b[43mfill\u001b[49m\u001b[38;5;241;43m=\u001b[39;49m\u001b[43mfill\u001b[49m\u001b[43m,\u001b[49m\n\u001b[1;32m   1420\u001b[0m \u001b[43m        \u001b[49m\u001b[43mshrink\u001b[49m\u001b[38;5;241;43m=\u001b[39;49m\u001b[43mshrink\u001b[49m\u001b[43m,\u001b[49m\n\u001b[1;32m   1421\u001b[0m \u001b[43m        \u001b[49m\u001b[43mcommon_norm\u001b[49m\u001b[38;5;241;43m=\u001b[39;49m\u001b[43mcommon_norm\u001b[49m\u001b[43m,\u001b[49m\n\u001b[1;32m   1422\u001b[0m \u001b[43m        \u001b[49m\u001b[43mcommon_bins\u001b[49m\u001b[38;5;241;43m=\u001b[39;49m\u001b[43mcommon_bins\u001b[49m\u001b[43m,\u001b[49m\n\u001b[1;32m   1423\u001b[0m \u001b[43m        \u001b[49m\u001b[43mkde\u001b[49m\u001b[38;5;241;43m=\u001b[39;49m\u001b[43mkde\u001b[49m\u001b[43m,\u001b[49m\n\u001b[1;32m   1424\u001b[0m \u001b[43m        \u001b[49m\u001b[43mkde_kws\u001b[49m\u001b[38;5;241;43m=\u001b[39;49m\u001b[43mkde_kws\u001b[49m\u001b[43m,\u001b[49m\n\u001b[1;32m   1425\u001b[0m \u001b[43m        \u001b[49m\u001b[43mcolor\u001b[49m\u001b[38;5;241;43m=\u001b[39;49m\u001b[43mcolor\u001b[49m\u001b[43m,\u001b[49m\n\u001b[1;32m   1426\u001b[0m \u001b[43m        \u001b[49m\u001b[43mlegend\u001b[49m\u001b[38;5;241;43m=\u001b[39;49m\u001b[43mlegend\u001b[49m\u001b[43m,\u001b[49m\n\u001b[1;32m   1427\u001b[0m \u001b[43m        \u001b[49m\u001b[43mestimate_kws\u001b[49m\u001b[38;5;241;43m=\u001b[39;49m\u001b[43mestimate_kws\u001b[49m\u001b[43m,\u001b[49m\n\u001b[1;32m   1428\u001b[0m \u001b[43m        \u001b[49m\u001b[43mline_kws\u001b[49m\u001b[38;5;241;43m=\u001b[39;49m\u001b[43mline_kws\u001b[49m\u001b[43m,\u001b[49m\n\u001b[1;32m   1429\u001b[0m \u001b[43m        \u001b[49m\u001b[38;5;241;43m*\u001b[39;49m\u001b[38;5;241;43m*\u001b[39;49m\u001b[43mkwargs\u001b[49m\u001b[43m,\u001b[49m\n\u001b[1;32m   1430\u001b[0m \u001b[43m    \u001b[49m\u001b[43m)\u001b[49m\n\u001b[1;32m   1432\u001b[0m \u001b[38;5;28;01melse\u001b[39;00m:\n\u001b[1;32m   1434\u001b[0m     p\u001b[38;5;241m.\u001b[39mplot_bivariate_histogram(\n\u001b[1;32m   1435\u001b[0m         common_bins\u001b[38;5;241m=\u001b[39mcommon_bins,\n\u001b[1;32m   1436\u001b[0m         common_norm\u001b[38;5;241m=\u001b[39mcommon_norm,\n\u001b[0;32m   (...)\u001b[0m\n\u001b[1;32m   1446\u001b[0m         \u001b[38;5;241m*\u001b[39m\u001b[38;5;241m*\u001b[39mkwargs,\n\u001b[1;32m   1447\u001b[0m     )\n",
            "File \u001b[0;32m~/.conda/envs/dirty-env/lib/python3.13/site-packages/seaborn/distributions.py:447\u001b[0m, in \u001b[0;36m_DistributionPlotter.plot_univariate_histogram\u001b[0;34m(self, multiple, element, fill, common_norm, common_bins, shrink, kde, kde_kws, color, legend, line_kws, estimate_kws, **plot_kws)\u001b[0m\n\u001b[1;32m    445\u001b[0m     kde_kws\u001b[38;5;241m.\u001b[39msetdefault(\u001b[38;5;124m\"\u001b[39m\u001b[38;5;124mcut\u001b[39m\u001b[38;5;124m\"\u001b[39m, \u001b[38;5;241m0\u001b[39m)\n\u001b[1;32m    446\u001b[0m     kde_kws[\u001b[38;5;124m\"\u001b[39m\u001b[38;5;124mcumulative\u001b[39m\u001b[38;5;124m\"\u001b[39m] \u001b[38;5;241m=\u001b[39m estimate_kws[\u001b[38;5;124m\"\u001b[39m\u001b[38;5;124mcumulative\u001b[39m\u001b[38;5;124m\"\u001b[39m]\n\u001b[0;32m--> 447\u001b[0m     densities \u001b[38;5;241m=\u001b[39m \u001b[38;5;28;43mself\u001b[39;49m\u001b[38;5;241;43m.\u001b[39;49m\u001b[43m_compute_univariate_density\u001b[49m\u001b[43m(\u001b[49m\n\u001b[1;32m    448\u001b[0m \u001b[43m        \u001b[49m\u001b[38;5;28;43mself\u001b[39;49m\u001b[38;5;241;43m.\u001b[39;49m\u001b[43mdata_variable\u001b[49m\u001b[43m,\u001b[49m\n\u001b[1;32m    449\u001b[0m \u001b[43m        \u001b[49m\u001b[43mcommon_norm\u001b[49m\u001b[43m,\u001b[49m\n\u001b[1;32m    450\u001b[0m \u001b[43m        \u001b[49m\u001b[43mcommon_bins\u001b[49m\u001b[43m,\u001b[49m\n\u001b[1;32m    451\u001b[0m \u001b[43m        \u001b[49m\u001b[43mkde_kws\u001b[49m\u001b[43m,\u001b[49m\n\u001b[1;32m    452\u001b[0m \u001b[43m        \u001b[49m\u001b[43mwarn_singular\u001b[49m\u001b[38;5;241;43m=\u001b[39;49m\u001b[38;5;28;43;01mFalse\u001b[39;49;00m\u001b[43m,\u001b[49m\n\u001b[1;32m    453\u001b[0m \u001b[43m    \u001b[49m\u001b[43m)\u001b[49m\n\u001b[1;32m    455\u001b[0m \u001b[38;5;66;03m# First pass through the data to compute the histograms\u001b[39;00m\n\u001b[1;32m    456\u001b[0m \u001b[38;5;28;01mfor\u001b[39;00m sub_vars, sub_data \u001b[38;5;129;01min\u001b[39;00m \u001b[38;5;28mself\u001b[39m\u001b[38;5;241m.\u001b[39miter_data(\u001b[38;5;124m\"\u001b[39m\u001b[38;5;124mhue\u001b[39m\u001b[38;5;124m\"\u001b[39m, from_comp_data\u001b[38;5;241m=\u001b[39m\u001b[38;5;28;01mTrue\u001b[39;00m):\n\u001b[1;32m    457\u001b[0m \n\u001b[1;32m    458\u001b[0m     \u001b[38;5;66;03m# Prepare the relevant data\u001b[39;00m\n",
            "File \u001b[0;32m~/.conda/envs/dirty-env/lib/python3.13/site-packages/seaborn/distributions.py:345\u001b[0m, in \u001b[0;36m_DistributionPlotter._compute_univariate_density\u001b[0;34m(self, data_variable, common_norm, common_grid, estimate_kws, warn_singular)\u001b[0m\n\u001b[1;32m    341\u001b[0m \u001b[38;5;28;01mtry\u001b[39;00m:\n\u001b[1;32m    342\u001b[0m     \u001b[38;5;28;01mif\u001b[39;00m \u001b[38;5;129;01mnot\u001b[39;00m singular:\n\u001b[1;32m    343\u001b[0m         \u001b[38;5;66;03m# Convoluted approach needed because numerical failures\u001b[39;00m\n\u001b[1;32m    344\u001b[0m         \u001b[38;5;66;03m# can manifest in a few different ways.\u001b[39;00m\n\u001b[0;32m--> 345\u001b[0m         density, support \u001b[38;5;241m=\u001b[39m \u001b[43mestimator\u001b[49m\u001b[43m(\u001b[49m\u001b[43mobservations\u001b[49m\u001b[43m,\u001b[49m\u001b[43m \u001b[49m\u001b[43mweights\u001b[49m\u001b[38;5;241;43m=\u001b[39;49m\u001b[43mweights\u001b[49m\u001b[43m)\u001b[49m\n\u001b[1;32m    346\u001b[0m \u001b[38;5;28;01mexcept\u001b[39;00m np\u001b[38;5;241m.\u001b[39mlinalg\u001b[38;5;241m.\u001b[39mLinAlgError:\n\u001b[1;32m    347\u001b[0m     singular \u001b[38;5;241m=\u001b[39m \u001b[38;5;28;01mTrue\u001b[39;00m\n",
            "File \u001b[0;32m~/.conda/envs/dirty-env/lib/python3.13/site-packages/seaborn/_statistics.py:193\u001b[0m, in \u001b[0;36mKDE.__call__\u001b[0;34m(self, x1, x2, weights)\u001b[0m\n\u001b[1;32m    191\u001b[0m \u001b[38;5;250m\u001b[39m\u001b[38;5;124;03m\"\"\"Fit and evaluate on univariate or bivariate data.\"\"\"\u001b[39;00m\n\u001b[1;32m    192\u001b[0m \u001b[38;5;28;01mif\u001b[39;00m x2 \u001b[38;5;129;01mis\u001b[39;00m \u001b[38;5;28;01mNone\u001b[39;00m:\n\u001b[0;32m--> 193\u001b[0m     \u001b[38;5;28;01mreturn\u001b[39;00m \u001b[38;5;28;43mself\u001b[39;49m\u001b[38;5;241;43m.\u001b[39;49m\u001b[43m_eval_univariate\u001b[49m\u001b[43m(\u001b[49m\u001b[43mx1\u001b[49m\u001b[43m,\u001b[49m\u001b[43m \u001b[49m\u001b[43mweights\u001b[49m\u001b[43m)\u001b[49m\n\u001b[1;32m    194\u001b[0m \u001b[38;5;28;01melse\u001b[39;00m:\n\u001b[1;32m    195\u001b[0m     \u001b[38;5;28;01mreturn\u001b[39;00m \u001b[38;5;28mself\u001b[39m\u001b[38;5;241m.\u001b[39m_eval_bivariate(x1, x2, weights)\n",
            "File \u001b[0;32m~/.conda/envs/dirty-env/lib/python3.13/site-packages/seaborn/_statistics.py:162\u001b[0m, in \u001b[0;36mKDE._eval_univariate\u001b[0;34m(self, x, weights)\u001b[0m\n\u001b[1;32m    158\u001b[0m     density \u001b[38;5;241m=\u001b[39m np\u001b[38;5;241m.\u001b[39marray([\n\u001b[1;32m    159\u001b[0m         kde\u001b[38;5;241m.\u001b[39mintegrate_box_1d(s_0, s_i) \u001b[38;5;28;01mfor\u001b[39;00m s_i \u001b[38;5;129;01min\u001b[39;00m support\n\u001b[1;32m    160\u001b[0m     ])\n\u001b[1;32m    161\u001b[0m \u001b[38;5;28;01melse\u001b[39;00m:\n\u001b[0;32m--> 162\u001b[0m     density \u001b[38;5;241m=\u001b[39m \u001b[43mkde\u001b[49m\u001b[43m(\u001b[49m\u001b[43msupport\u001b[49m\u001b[43m)\u001b[49m\n\u001b[1;32m    164\u001b[0m \u001b[38;5;28;01mreturn\u001b[39;00m density, support\n",
            "File \u001b[0;32m~/.conda/envs/dirty-env/lib/python3.13/site-packages/scipy/stats/_kde.py:271\u001b[0m, in \u001b[0;36mgaussian_kde.evaluate\u001b[0;34m(self, points)\u001b[0m\n\u001b[1;32m    268\u001b[0m         \u001b[38;5;28;01mraise\u001b[39;00m \u001b[38;5;167;01mValueError\u001b[39;00m(msg)\n\u001b[1;32m    270\u001b[0m output_dtype, spec \u001b[38;5;241m=\u001b[39m _get_output_dtype(\u001b[38;5;28mself\u001b[39m\u001b[38;5;241m.\u001b[39mcovariance, points)\n\u001b[0;32m--> 271\u001b[0m result \u001b[38;5;241m=\u001b[39m \u001b[43mgaussian_kernel_estimate\u001b[49m\u001b[43m[\u001b[49m\u001b[43mspec\u001b[49m\u001b[43m]\u001b[49m\u001b[43m(\u001b[49m\n\u001b[1;32m    272\u001b[0m \u001b[43m    \u001b[49m\u001b[38;5;28;43mself\u001b[39;49m\u001b[38;5;241;43m.\u001b[39;49m\u001b[43mdataset\u001b[49m\u001b[38;5;241;43m.\u001b[39;49m\u001b[43mT\u001b[49m\u001b[43m,\u001b[49m\u001b[43m \u001b[49m\u001b[38;5;28;43mself\u001b[39;49m\u001b[38;5;241;43m.\u001b[39;49m\u001b[43mweights\u001b[49m\u001b[43m[\u001b[49m\u001b[43m:\u001b[49m\u001b[43m,\u001b[49m\u001b[43m \u001b[49m\u001b[38;5;28;43;01mNone\u001b[39;49;00m\u001b[43m]\u001b[49m\u001b[43m,\u001b[49m\n\u001b[1;32m    273\u001b[0m \u001b[43m    \u001b[49m\u001b[43mpoints\u001b[49m\u001b[38;5;241;43m.\u001b[39;49m\u001b[43mT\u001b[49m\u001b[43m,\u001b[49m\u001b[43m \u001b[49m\u001b[38;5;28;43mself\u001b[39;49m\u001b[38;5;241;43m.\u001b[39;49m\u001b[43mcho_cov\u001b[49m\u001b[43m,\u001b[49m\u001b[43m \u001b[49m\u001b[43moutput_dtype\u001b[49m\u001b[43m)\u001b[49m\n\u001b[1;32m    275\u001b[0m \u001b[38;5;28;01mreturn\u001b[39;00m result[:, \u001b[38;5;241m0\u001b[39m]\n",
            "\u001b[0;31mKeyboardInterrupt\u001b[0m: "
          ]
        },
        {
          "output_type": "display_data",
          "data": {
            "text/plain": [
              "<Figure size 400x300 with 1 Axes>"
            ],
            "image/png": "[encoded data removed]"
          },
          "metadata": {}
        }
      ]
    },
    {
      "cell_type": "code",
      "source": [
        "count_by_column(train, 'IsBeta')"
      ],
      "metadata": {
        "colab": {
          "base_uri": "https://localhost:8080/",
          "height": 112
        },
        "id": "1LUrK2n7lQpg",
        "outputId": "12541ea6-59d5-45b0-c843-5df10615d3ab"
      },
      "execution_count": 16,
      "outputs": [
        {
          "output_type": "execute_result",
          "data": {
            "text/plain": [
              "   IsBeta    count  percentage\n",
              "0       0  8921416   99.999249\n",
              "1       1       67    0.000751"
            ],
            "text/html": [
              "<div>\n",
              "<style scoped>\n",
              "    .dataframe tbody tr th:only-of-type {\n",
              "        vertical-align: middle;\n",
              "    }\n",
              "\n",
              "    .dataframe tbody tr th {\n",
              "        vertical-align: top;\n",
              "    }\n",
              "\n",
              "    .dataframe thead th {\n",
              "        text-align: right;\n",
              "    }\n",
              "</style>\n",
              "<table border=\"1\" class=\"dataframe\">\n",
              "  <thead>\n",
              "    <tr style=\"text-align: right;\">\n",
              "      <th></th>\n",
              "      <th>IsBeta</th>\n",
              "      <th>count</th>\n",
              "      <th>percentage</th>\n",
              "    </tr>\n",
              "  </thead>\n",
              "  <tbody>\n",
              "    <tr>\n",
              "      <th>0</th>\n",
              "      <td>0</td>\n",
              "      <td>8921416</td>\n",
              "      <td>99.999249</td>\n",
              "    </tr>\n",
              "    <tr>\n",
              "      <th>1</th>\n",
              "      <td>1</td>\n",
              "      <td>67</td>\n",
              "      <td>0.000751</td>\n",
              "    </tr>\n",
              "  </tbody>\n",
              "</table>\n",
              "</div>"
            ]
          },
          "metadata": {},
          "execution_count": 16
        }
      ]
    },
    {
      "cell_type": "markdown",
      "source": [
        "# Train/Test split"
      ],
      "metadata": {
        "id": "Ei69bFhTikA7"
      }
    },
    {
      "cell_type": "code",
      "source": [
        "train_preprocessed = train"
      ],
      "metadata": {
        "id": "1lcefEx4ipAt"
      },
      "execution_count": 5,
      "outputs": []
    },
    {
      "cell_type": "code",
      "source": [
        "# prompt: y = HasDetections,  train test split\n",
        "\n",
        "from sklearn.model_selection import train_test_split\n",
        "\n",
        "# Assuming 'train_numerical' is your preprocessed DataFrame and 'HasDetections' is your target variable\n",
        "X = train_preprocessed.drop('HasDetections', axis=1)\n",
        "y = train_preprocessed['HasDetections']\n",
        "\n",
        "X_train, X_test, y_train, y_test = train_test_split(X, y, test_size=0.3, random_state=42) # Adjust test_size and random_state as needed\n"
      ],
      "metadata": {
        "id": "uvsM9Hx73KR3"
      },
      "execution_count": 6,
      "outputs": []
    },
    {
      "cell_type": "code",
      "source": [
        "# prompt: df train  only keep is numerical column\n",
        "\n",
        "import pandas as pd\n",
        "# Select only numerical columns\n",
        "numerical_cols = train_preprocessed.select_dtypes(include=['number']).columns\n",
        "# Assuming 'train' DataFrame is already loaded as in the previous code.\n",
        "X_train_numerical = X_train[numerical_cols]\n",
        "X_test_numerical = X_test[numerical_cols]\n",
        "print(X_train_numerical.shape)\n",
        "print(X_test_numerical.shape)\n",
        "\n",
        "# Now train_numerical contains only the numerical columns from the train DataFrame.\n",
        "X_train_numerical.head()"
      ],
      "metadata": {
        "id": "IOec7D5l3KPS",
        "colab": {
          "base_uri": "https://localhost:8080/",
          "height": 290
        },
        "outputId": "ca944dd0-09ed-4e46-c760-9ab634179e4e"
      },
      "execution_count": 8,
      "outputs": [
        {
          "output_type": "stream",
          "name": "stdout",
          "text": [
            "(7000, 52)\n",
            "(3000, 52)\n"
          ]
        },
        {
          "output_type": "execute_result",
          "data": {
            "text/plain": [
              "      IsBeta  RtpStateBitfield  IsSxsPassiveMode  DefaultBrowsersIdentifier  \\\n",
              "9069       0               7.0                 0                        NaN   \n",
              "2603       0               7.0                 0                        NaN   \n",
              "7738       0               7.0                 0                     1870.0   \n",
              "1579       0               7.0                 0                        NaN   \n",
              "5058       0               7.0                 0                        NaN   \n",
              "\n",
              "      AVProductStatesIdentifier  AVProductsInstalled  AVProductsEnabled  \\\n",
              "9069                    53447.0                  1.0                1.0   \n",
              "2603                    53447.0                  1.0                1.0   \n",
              "7738                    12202.0                  2.0                1.0   \n",
              "1579                    53447.0                  1.0                1.0   \n",
              "5058                     7945.0                  2.0                1.0   \n",
              "\n",
              "      HasTpm  CountryIdentifier  CityIdentifier  ...  \\\n",
              "9069       1                 29        143530.0  ...   \n",
              "2603       1                 93         69926.0  ...   \n",
              "7738       1                199        150207.0  ...   \n",
              "1579       1                159         97390.0  ...   \n",
              "5058       1                110          3137.0  ...   \n",
              "\n",
              "      Census_FirmwareManufacturerIdentifier  Census_FirmwareVersionIdentifier  \\\n",
              "9069                                  556.0                           63086.0   \n",
              "2603                                  554.0                           33142.0   \n",
              "7738                                  628.0                           16894.0   \n",
              "1579                                  355.0                           20317.0   \n",
              "5058                                  628.0                           19270.0   \n",
              "\n",
              "      Census_IsSecureBootEnabled  Census_IsWIMBootEnabled  \\\n",
              "9069                           1                      NaN   \n",
              "2603                           1                      0.0   \n",
              "7738                           0                      0.0   \n",
              "1579                           0                      0.0   \n",
              "5058                           1                      NaN   \n",
              "\n",
              "      Census_IsVirtualDevice  Census_IsTouchEnabled  Census_IsPenCapable  \\\n",
              "9069                     0.0                      0                    0   \n",
              "2603                     0.0                      0                    0   \n",
              "7738                     0.0                      0                    0   \n",
              "1579                     0.0                      0                    0   \n",
              "5058                     0.0                      0                    0   \n",
              "\n",
              "      Census_IsAlwaysOnAlwaysConnectedCapable  Wdft_IsGamer  \\\n",
              "9069                                      0.0           0.0   \n",
              "2603                                      0.0           0.0   \n",
              "7738                                      0.0           0.0   \n",
              "1579                                      0.0           1.0   \n",
              "5058                                      0.0           0.0   \n",
              "\n",
              "      Wdft_RegionIdentifier  \n",
              "9069                   10.0  \n",
              "2603                    8.0  \n",
              "7738                   11.0  \n",
              "1579                   11.0  \n",
              "5058                    3.0  \n",
              "\n",
              "[5 rows x 52 columns]"
            ],
            "text/html": [
              "<div>\n",
              "<style scoped>\n",
              "    .dataframe tbody tr th:only-of-type {\n",
              "        vertical-align: middle;\n",
              "    }\n",
              "\n",
              "    .dataframe tbody tr th {\n",
              "        vertical-align: top;\n",
              "    }\n",
              "\n",
              "    .dataframe thead th {\n",
              "        text-align: right;\n",
              "    }\n",
              "</style>\n",
              "<table border=\"1\" class=\"dataframe\">\n",
              "  <thead>\n",
              "    <tr style=\"text-align: right;\">\n",
              "      <th></th>\n",
              "      <th>IsBeta</th>\n",
              "      <th>RtpStateBitfield</th>\n",
              "      <th>IsSxsPassiveMode</th>\n",
              "      <th>DefaultBrowsersIdentifier</th>\n",
              "      <th>AVProductStatesIdentifier</th>\n",
              "      <th>AVProductsInstalled</th>\n",
              "      <th>AVProductsEnabled</th>\n",
              "      <th>HasTpm</th>\n",
              "      <th>CountryIdentifier</th>\n",
              "      <th>CityIdentifier</th>\n",
              "      <th>...</th>\n",
              "      <th>Census_FirmwareManufacturerIdentifier</th>\n",
              "      <th>Census_FirmwareVersionIdentifier</th>\n",
              "      <th>Census_IsSecureBootEnabled</th>\n",
              "      <th>Census_IsWIMBootEnabled</th>\n",
              "      <th>Census_IsVirtualDevice</th>\n",
              "      <th>Census_IsTouchEnabled</th>\n",
              "      <th>Census_IsPenCapable</th>\n",
              "      <th>Census_IsAlwaysOnAlwaysConnectedCapable</th>\n",
              "      <th>Wdft_IsGamer</th>\n",
              "      <th>Wdft_RegionIdentifier</th>\n",
              "    </tr>\n",
              "  </thead>\n",
              "  <tbody>\n",
              "    <tr>\n",
              "      <th>9069</th>\n",
              "      <td>0</td>\n",
              "      <td>7.0</td>\n",
              "      <td>0</td>\n",
              "      <td>NaN</td>\n",
              "      <td>53447.0</td>\n",
              "      <td>1.0</td>\n",
              "      <td>1.0</td>\n",
              "      <td>1</td>\n",
              "      <td>29</td>\n",
              "      <td>143530.0</td>\n",
              "      <td>...</td>\n",
              "      <td>556.0</td>\n",
              "      <td>63086.0</td>\n",
              "      <td>1</td>\n",
              "      <td>NaN</td>\n",
              "      <td>0.0</td>\n",
              "      <td>0</td>\n",
              "      <td>0</td>\n",
              "      <td>0.0</td>\n",
              "      <td>0.0</td>\n",
              "      <td>10.0</td>\n",
              "    </tr>\n",
              "    <tr>\n",
              "      <th>2603</th>\n",
              "      <td>0</td>\n",
              "      <td>7.0</td>\n",
              "      <td>0</td>\n",
              "      <td>NaN</td>\n",
              "      <td>53447.0</td>\n",
              "      <td>1.0</td>\n",
              "      <td>1.0</td>\n",
              "      <td>1</td>\n",
              "      <td>93</td>\n",
              "      <td>69926.0</td>\n",
              "      <td>...</td>\n",
              "      <td>554.0</td>\n",
              "      <td>33142.0</td>\n",
              "      <td>1</td>\n",
              "      <td>0.0</td>\n",
              "      <td>0.0</td>\n",
              "      <td>0</td>\n",
              "      <td>0</td>\n",
              "      <td>0.0</td>\n",
              "      <td>0.0</td>\n",
              "      <td>8.0</td>\n",
              "    </tr>\n",
              "    <tr>\n",
              "      <th>7738</th>\n",
              "      <td>0</td>\n",
              "      <td>7.0</td>\n",
              "      <td>0</td>\n",
              "      <td>1870.0</td>\n",
              "      <td>12202.0</td>\n",
              "      <td>2.0</td>\n",
              "      <td>1.0</td>\n",
              "      <td>1</td>\n",
              "      <td>199</td>\n",
              "      <td>150207.0</td>\n",
              "      <td>...</td>\n",
              "      <td>628.0</td>\n",
              "      <td>16894.0</td>\n",
              "      <td>0</td>\n",
              "      <td>0.0</td>\n",
              "      <td>0.0</td>\n",
              "      <td>0</td>\n",
              "      <td>0</td>\n",
              "      <td>0.0</td>\n",
              "      <td>0.0</td>\n",
              "      <td>11.0</td>\n",
              "    </tr>\n",
              "    <tr>\n",
              "      <th>1579</th>\n",
              "      <td>0</td>\n",
              "      <td>7.0</td>\n",
              "      <td>0</td>\n",
              "      <td>NaN</td>\n",
              "      <td>53447.0</td>\n",
              "      <td>1.0</td>\n",
              "      <td>1.0</td>\n",
              "      <td>1</td>\n",
              "      <td>159</td>\n",
              "      <td>97390.0</td>\n",
              "      <td>...</td>\n",
              "      <td>355.0</td>\n",
              "      <td>20317.0</td>\n",
              "      <td>0</td>\n",
              "      <td>0.0</td>\n",
              "      <td>0.0</td>\n",
              "      <td>0</td>\n",
              "      <td>0</td>\n",
              "      <td>0.0</td>\n",
              "      <td>1.0</td>\n",
              "      <td>11.0</td>\n",
              "    </tr>\n",
              "    <tr>\n",
              "      <th>5058</th>\n",
              "      <td>0</td>\n",
              "      <td>7.0</td>\n",
              "      <td>0</td>\n",
              "      <td>NaN</td>\n",
              "      <td>7945.0</td>\n",
              "      <td>2.0</td>\n",
              "      <td>1.0</td>\n",
              "      <td>1</td>\n",
              "      <td>110</td>\n",
              "      <td>3137.0</td>\n",
              "      <td>...</td>\n",
              "      <td>628.0</td>\n",
              "      <td>19270.0</td>\n",
              "      <td>1</td>\n",
              "      <td>NaN</td>\n",
              "      <td>0.0</td>\n",
              "      <td>0</td>\n",
              "      <td>0</td>\n",
              "      <td>0.0</td>\n",
              "      <td>0.0</td>\n",
              "      <td>3.0</td>\n",
              "    </tr>\n",
              "  </tbody>\n",
              "</table>\n",
              "<p>5 rows × 52 columns</p>\n",
              "</div>"
            ]
          },
          "metadata": {},
          "execution_count": 8
        }
      ]
    },
    {
      "cell_type": "code",
      "source": [
        "# Select only numerical columns\n",
        "numerical_cols = train_preprocessed.select_dtypes(include=['number']).columns"
      ],
      "metadata": {
        "id": "rOUvoU2ikgcJ"
      },
      "execution_count": null,
      "outputs": []
    },
    {
      "cell_type": "code",
      "source": [],
      "metadata": {
        "id": "_kRI4hmP3KUr"
      },
      "execution_count": null,
      "outputs": []
    },
    {
      "cell_type": "code",
      "source": [],
      "metadata": {
        "id": "ZE74j9tD3KXJ"
      },
      "execution_count": null,
      "outputs": []
    },
    {
      "cell_type": "markdown",
      "source": [
        "# Classification Model"
      ],
      "metadata": {
        "id": "p-3xwQlcj1BU"
      }
    },
    {
      "cell_type": "code",
      "source": [
        "# prompt: llightgbm\n",
        "\n",
        "!pip install lightgbm\n",
        "\n",
        "import lightgbm as lgb\n",
        "\n",
        "# Create LightGBM dataset\n",
        "lgb_train = lgb.Dataset(X_train_numerical, y_train)\n",
        "lgb_eval = lgb.Dataset(X_test_numerical, y_test, reference=lgb_train)\n",
        "\n",
        "# Define LightGBM parameters\n",
        "params = {\n",
        "    'objective': 'binary',\n",
        "    'metric': 'binary_logloss',\n",
        "    'boosting_type': 'gbdt',\n",
        "    'num_leaves': 31,\n",
        "    'learning_rate': 0.05,\n",
        "    'feature_fraction': 0.9,\n",
        "    'bagging_fraction': 0.8,\n",
        "    'bagging_freq': 5,\n",
        "    'verbose': 0\n",
        "}\n",
        "\n",
        "# Train the LightGBM model\n",
        "gbm = lgb.train(params,\n",
        "                lgb_train,\n",
        "                num_boost_round=100,\n",
        "                valid_sets=lgb_eval,\n",
        "                early_stopping_rounds=10)\n",
        "\n",
        "\n",
        "# Make predictions on the test set\n",
        "y_pred_lgb = gbm.predict(X_test_numerical, num_iteration=gbm.best_iteration)\n",
        "y_pred_lgb_binary = [1 if p > 0.5 else 0 for p in y_pred_lgb]\n",
        "\n",
        "\n",
        "# Evaluate the model\n",
        "accuracy_lgb = accuracy_score(y_test, y_pred_lgb_binary)\n",
        "roc_auc_lgb = roc_auc_score(y_test, y_pred_lgb)\n",
        "\n",
        "print(f\"LightGBM Accuracy: {accuracy_lgb}\")\n",
        "print(f\"LightGBM ROC AUC: {roc_auc_lgb}\")\n"
      ],
      "metadata": {
        "id": "VXlshRht3Kcj"
      },
      "execution_count": null,
      "outputs": []
    },
    {
      "cell_type": "code",
      "source": [
        "# prompt: a)\tLogistics Regression\n",
        "# b)\tRandom Forest\n",
        "# c)\tDecision Tree\n",
        "# d)\tSVM\n",
        "# e)\tKNN\n",
        "# f)\tANN\n",
        "# evaluated on area under the ROC curve,a)\tReport the confusion matrix, accuracy score, precision score, recall score, f1 score\n",
        "\n",
        "from sklearn.metrics import confusion_matrix, accuracy_score, precision_score, recall_score, f1_score, roc_auc_score\n",
        "from sklearn.linear_model import LogisticRegression\n",
        "from sklearn.ensemble import RandomForestClassifier\n",
        "from sklearn.tree import DecisionTreeClassifier\n",
        "from sklearn.svm import SVC\n",
        "from sklearn.neighbors import KNeighborsClassifier\n",
        "from sklearn.neural_network import MLPClassifier\n",
        "\n",
        "\n",
        "# ... (Your existing code) ...\n",
        "\n",
        "\n",
        "# Classification Models\n",
        "models = {\n",
        "    'Logistic Regression': LogisticRegression(max_iter=1000),  # Increased max_iter\n",
        "    'Random Forest': RandomForestClassifier(),\n",
        "    'Decision Tree': DecisionTreeClassifier(),\n",
        "    'SVM': SVC(probability=True), # Enable probability estimates for ROC AUC\n",
        "    'KNN': KNeighborsClassifier(),\n",
        "    'ANN': MLPClassifier()\n",
        "}\n",
        "\n",
        "results = {}\n",
        "\n",
        "for name, model in models.items():\n",
        "    print(f\"Training {name}...\")\n",
        "    model.fit(X_train_numerical, y_train)\n",
        "    y_pred = model.predict(X_test_numerical)\n",
        "    y_prob = model.predict_proba(X_test_numerical)[:, 1] # Probability for positive class\n",
        "\n",
        "    results[name] = {\n",
        "        'confusion_matrix': confusion_matrix(y_test, y_pred),\n",
        "        'accuracy': accuracy_score(y_test, y_pred),\n",
        "        'precision': precision_score(y_test, y_pred),\n",
        "        'recall': recall_score(y_test, y_pred),\n",
        "        'f1': f1_score(y_test, y_pred),\n",
        "        'roc_auc': roc_auc_score(y_test, y_prob)\n",
        "    }\n",
        "    print(f\"{name} trained.\")\n",
        "\n",
        "\n",
        "for name, metrics in results.items():\n",
        "    print(f\"\\n{name}:\")\n",
        "    print(f\"  Confusion Matrix:\\n{metrics['confusion_matrix']}\")\n",
        "    print(f\"  Accuracy: {metrics['accuracy']:.4f}\")\n",
        "    print(f\"  Precision: {metrics['precision']:.4f}\")\n",
        "    print(f\"  Recall: {metrics['recall']:.4f}\")\n",
        "    print(f\"  F1-score: {metrics['f1']:.4f}\")\n",
        "    print(f\"  ROC AUC: {metrics['roc_auc']:.4f}\")\n"
      ],
      "metadata": {
        "id": "L31rQakMAfXQ"
      },
      "execution_count": null,
      "outputs": []
    },
    {
      "cell_type": "code",
      "source": [],
      "metadata": {
        "id": "vrg3ekmt3KfP"
      },
      "execution_count": null,
      "outputs": []
    },
    {
      "cell_type": "code",
      "source": [],
      "metadata": {
        "id": "6nNM9G4L3KiD"
      },
      "execution_count": null,
      "outputs": []
    },
    {
      "cell_type": "code",
      "source": [],
      "metadata": {
        "id": "dxPMqLyq3Kkv"
      },
      "execution_count": null,
      "outputs": []
    },
    {
      "cell_type": "code",
      "source": [],
      "metadata": {
        "id": "EmuQPSJ63Knd"
      },
      "execution_count": null,
      "outputs": []
    },
    {
      "cell_type": "code",
      "source": [],
      "metadata": {
        "id": "sOfsy3q83Kq1"
      },
      "execution_count": null,
      "outputs": []
    },
    {
      "cell_type": "code",
      "source": [],
      "metadata": {
        "id": "01RFANgziNYS"
      },
      "execution_count": null,
      "outputs": []
    },
    {
      "cell_type": "code",
      "source": [],
      "metadata": {
        "id": "da1NUbjsiNav"
      },
      "execution_count": null,
      "outputs": []
    },
    {
      "cell_type": "code",
      "source": [],
      "metadata": {
        "id": "5SSp7cvUiNdY"
      },
      "execution_count": null,
      "outputs": []
    },
    {
      "cell_type": "code",
      "source": [],
      "metadata": {
        "id": "RZf9ug6yiNf9"
      },
      "execution_count": null,
      "outputs": []
    },
    {
      "cell_type": "code",
      "source": [],
      "metadata": {
        "id": "6wXPaeVdiNi1"
      },
      "execution_count": null,
      "outputs": []
    },
    {
      "cell_type": "code",
      "source": [],
      "metadata": {
        "id": "aPaSnmWwiNlg"
      },
      "execution_count": null,
      "outputs": []
    },
    {
      "cell_type": "code",
      "source": [],
      "metadata": {
        "id": "wLmO3KKGiNpK"
      },
      "execution_count": null,
      "outputs": []
    },
    {
      "cell_type": "markdown",
      "source": [
        "# Predict test dataset and submit to Kaggle"
      ],
      "metadata": {
        "id": "jRu3EcKjiN7u"
      }
    },
    {
      "cell_type": "code",
      "source": [],
      "metadata": {
        "id": "aHhtK-XwiTnJ"
      },
      "execution_count": null,
      "outputs": []
    }
  ]
}